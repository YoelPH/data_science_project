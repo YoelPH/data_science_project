{
 "cells": [
  {
   "cell_type": "code",
   "execution_count": 2,
   "metadata": {},
   "outputs": [],
   "source": [
    "import numpy as np\n",
    "import pandas as pd\n",
    "import matplotlib.pyplot as plt\n",
    "import seaborn as sns\n",
    "\n",
    "%matplotlib inline"
   ]
  },
  {
   "cell_type": "code",
   "execution_count": 3,
   "metadata": {},
   "outputs": [
    {
     "data": {
      "text/html": [
       "<div>\n",
       "<style scoped>\n",
       "    .dataframe tbody tr th:only-of-type {\n",
       "        vertical-align: middle;\n",
       "    }\n",
       "\n",
       "    .dataframe tbody tr th {\n",
       "        vertical-align: top;\n",
       "    }\n",
       "\n",
       "    .dataframe thead th {\n",
       "        text-align: right;\n",
       "    }\n",
       "</style>\n",
       "<table border=\"1\" class=\"dataframe\">\n",
       "  <thead>\n",
       "    <tr style=\"text-align: right;\">\n",
       "      <th></th>\n",
       "      <th>ID</th>\n",
       "      <th>AGE</th>\n",
       "      <th>SEX</th>\n",
       "      <th>INF_ANAM</th>\n",
       "      <th>STENOK_AN</th>\n",
       "      <th>FK_STENOK</th>\n",
       "      <th>IBS_POST</th>\n",
       "      <th>IBS_NASL</th>\n",
       "      <th>GB</th>\n",
       "      <th>SIM_GIPERT</th>\n",
       "      <th>...</th>\n",
       "      <th>JELUD_TAH</th>\n",
       "      <th>FIBR_JELUD</th>\n",
       "      <th>A_V_BLOK</th>\n",
       "      <th>OTEK_LANC</th>\n",
       "      <th>RAZRIV</th>\n",
       "      <th>DRESSLER</th>\n",
       "      <th>ZSN</th>\n",
       "      <th>REC_IM</th>\n",
       "      <th>P_IM_STEN</th>\n",
       "      <th>LET_IS</th>\n",
       "    </tr>\n",
       "  </thead>\n",
       "  <tbody>\n",
       "    <tr>\n",
       "      <th>0</th>\n",
       "      <td>1</td>\n",
       "      <td>77</td>\n",
       "      <td>1</td>\n",
       "      <td>2</td>\n",
       "      <td>1</td>\n",
       "      <td>1</td>\n",
       "      <td>2</td>\n",
       "      <td>?</td>\n",
       "      <td>3</td>\n",
       "      <td>0</td>\n",
       "      <td>...</td>\n",
       "      <td>0</td>\n",
       "      <td>0</td>\n",
       "      <td>0</td>\n",
       "      <td>0</td>\n",
       "      <td>0</td>\n",
       "      <td>0</td>\n",
       "      <td>0</td>\n",
       "      <td>0</td>\n",
       "      <td>0</td>\n",
       "      <td>0</td>\n",
       "    </tr>\n",
       "    <tr>\n",
       "      <th>1</th>\n",
       "      <td>2</td>\n",
       "      <td>55</td>\n",
       "      <td>1</td>\n",
       "      <td>1</td>\n",
       "      <td>0</td>\n",
       "      <td>0</td>\n",
       "      <td>0</td>\n",
       "      <td>0</td>\n",
       "      <td>0</td>\n",
       "      <td>0</td>\n",
       "      <td>...</td>\n",
       "      <td>0</td>\n",
       "      <td>0</td>\n",
       "      <td>0</td>\n",
       "      <td>0</td>\n",
       "      <td>0</td>\n",
       "      <td>0</td>\n",
       "      <td>0</td>\n",
       "      <td>0</td>\n",
       "      <td>0</td>\n",
       "      <td>0</td>\n",
       "    </tr>\n",
       "    <tr>\n",
       "      <th>2</th>\n",
       "      <td>3</td>\n",
       "      <td>52</td>\n",
       "      <td>1</td>\n",
       "      <td>0</td>\n",
       "      <td>0</td>\n",
       "      <td>0</td>\n",
       "      <td>2</td>\n",
       "      <td>?</td>\n",
       "      <td>2</td>\n",
       "      <td>0</td>\n",
       "      <td>...</td>\n",
       "      <td>0</td>\n",
       "      <td>0</td>\n",
       "      <td>0</td>\n",
       "      <td>0</td>\n",
       "      <td>0</td>\n",
       "      <td>0</td>\n",
       "      <td>0</td>\n",
       "      <td>0</td>\n",
       "      <td>0</td>\n",
       "      <td>0</td>\n",
       "    </tr>\n",
       "    <tr>\n",
       "      <th>3</th>\n",
       "      <td>4</td>\n",
       "      <td>68</td>\n",
       "      <td>0</td>\n",
       "      <td>0</td>\n",
       "      <td>0</td>\n",
       "      <td>0</td>\n",
       "      <td>2</td>\n",
       "      <td>?</td>\n",
       "      <td>2</td>\n",
       "      <td>0</td>\n",
       "      <td>...</td>\n",
       "      <td>0</td>\n",
       "      <td>0</td>\n",
       "      <td>0</td>\n",
       "      <td>0</td>\n",
       "      <td>0</td>\n",
       "      <td>0</td>\n",
       "      <td>1</td>\n",
       "      <td>0</td>\n",
       "      <td>0</td>\n",
       "      <td>0</td>\n",
       "    </tr>\n",
       "    <tr>\n",
       "      <th>4</th>\n",
       "      <td>5</td>\n",
       "      <td>60</td>\n",
       "      <td>1</td>\n",
       "      <td>0</td>\n",
       "      <td>0</td>\n",
       "      <td>0</td>\n",
       "      <td>2</td>\n",
       "      <td>?</td>\n",
       "      <td>3</td>\n",
       "      <td>0</td>\n",
       "      <td>...</td>\n",
       "      <td>0</td>\n",
       "      <td>0</td>\n",
       "      <td>0</td>\n",
       "      <td>0</td>\n",
       "      <td>0</td>\n",
       "      <td>0</td>\n",
       "      <td>0</td>\n",
       "      <td>0</td>\n",
       "      <td>0</td>\n",
       "      <td>0</td>\n",
       "    </tr>\n",
       "    <tr>\n",
       "      <th>...</th>\n",
       "      <td>...</td>\n",
       "      <td>...</td>\n",
       "      <td>...</td>\n",
       "      <td>...</td>\n",
       "      <td>...</td>\n",
       "      <td>...</td>\n",
       "      <td>...</td>\n",
       "      <td>...</td>\n",
       "      <td>...</td>\n",
       "      <td>...</td>\n",
       "      <td>...</td>\n",
       "      <td>...</td>\n",
       "      <td>...</td>\n",
       "      <td>...</td>\n",
       "      <td>...</td>\n",
       "      <td>...</td>\n",
       "      <td>...</td>\n",
       "      <td>...</td>\n",
       "      <td>...</td>\n",
       "      <td>...</td>\n",
       "      <td>...</td>\n",
       "    </tr>\n",
       "    <tr>\n",
       "      <th>1695</th>\n",
       "      <td>1696</td>\n",
       "      <td>77</td>\n",
       "      <td>0</td>\n",
       "      <td>0</td>\n",
       "      <td>4</td>\n",
       "      <td>2</td>\n",
       "      <td>1</td>\n",
       "      <td>?</td>\n",
       "      <td>2</td>\n",
       "      <td>0</td>\n",
       "      <td>...</td>\n",
       "      <td>0</td>\n",
       "      <td>0</td>\n",
       "      <td>1</td>\n",
       "      <td>0</td>\n",
       "      <td>1</td>\n",
       "      <td>0</td>\n",
       "      <td>0</td>\n",
       "      <td>0</td>\n",
       "      <td>0</td>\n",
       "      <td>3</td>\n",
       "    </tr>\n",
       "    <tr>\n",
       "      <th>1696</th>\n",
       "      <td>1697</td>\n",
       "      <td>70</td>\n",
       "      <td>0</td>\n",
       "      <td>0</td>\n",
       "      <td>6</td>\n",
       "      <td>2</td>\n",
       "      <td>1</td>\n",
       "      <td>?</td>\n",
       "      <td>2</td>\n",
       "      <td>0</td>\n",
       "      <td>...</td>\n",
       "      <td>0</td>\n",
       "      <td>0</td>\n",
       "      <td>0</td>\n",
       "      <td>0</td>\n",
       "      <td>0</td>\n",
       "      <td>0</td>\n",
       "      <td>0</td>\n",
       "      <td>0</td>\n",
       "      <td>0</td>\n",
       "      <td>1</td>\n",
       "    </tr>\n",
       "    <tr>\n",
       "      <th>1697</th>\n",
       "      <td>1698</td>\n",
       "      <td>55</td>\n",
       "      <td>1</td>\n",
       "      <td>3</td>\n",
       "      <td>6</td>\n",
       "      <td>2</td>\n",
       "      <td>2</td>\n",
       "      <td>?</td>\n",
       "      <td>0</td>\n",
       "      <td>0</td>\n",
       "      <td>...</td>\n",
       "      <td>0</td>\n",
       "      <td>0</td>\n",
       "      <td>0</td>\n",
       "      <td>0</td>\n",
       "      <td>0</td>\n",
       "      <td>0</td>\n",
       "      <td>0</td>\n",
       "      <td>1</td>\n",
       "      <td>0</td>\n",
       "      <td>6</td>\n",
       "    </tr>\n",
       "    <tr>\n",
       "      <th>1698</th>\n",
       "      <td>1699</td>\n",
       "      <td>79</td>\n",
       "      <td>0</td>\n",
       "      <td>2</td>\n",
       "      <td>2</td>\n",
       "      <td>2</td>\n",
       "      <td>1</td>\n",
       "      <td>?</td>\n",
       "      <td>2</td>\n",
       "      <td>0</td>\n",
       "      <td>...</td>\n",
       "      <td>0</td>\n",
       "      <td>0</td>\n",
       "      <td>0</td>\n",
       "      <td>1</td>\n",
       "      <td>0</td>\n",
       "      <td>0</td>\n",
       "      <td>0</td>\n",
       "      <td>0</td>\n",
       "      <td>0</td>\n",
       "      <td>1</td>\n",
       "    </tr>\n",
       "    <tr>\n",
       "      <th>1699</th>\n",
       "      <td>1700</td>\n",
       "      <td>63</td>\n",
       "      <td>1</td>\n",
       "      <td>2</td>\n",
       "      <td>?</td>\n",
       "      <td>?</td>\n",
       "      <td>?</td>\n",
       "      <td>?</td>\n",
       "      <td>2</td>\n",
       "      <td>0</td>\n",
       "      <td>...</td>\n",
       "      <td>0</td>\n",
       "      <td>0</td>\n",
       "      <td>0</td>\n",
       "      <td>0</td>\n",
       "      <td>0</td>\n",
       "      <td>0</td>\n",
       "      <td>0</td>\n",
       "      <td>0</td>\n",
       "      <td>0</td>\n",
       "      <td>1</td>\n",
       "    </tr>\n",
       "  </tbody>\n",
       "</table>\n",
       "<p>1700 rows × 124 columns</p>\n",
       "</div>"
      ],
      "text/plain": [
       "        ID AGE  SEX INF_ANAM STENOK_AN FK_STENOK IBS_POST IBS_NASL GB   \n",
       "0        1  77    1        2         1         1        2        ?  3  \\\n",
       "1        2  55    1        1         0         0        0        0  0   \n",
       "2        3  52    1        0         0         0        2        ?  2   \n",
       "3        4  68    0        0         0         0        2        ?  2   \n",
       "4        5  60    1        0         0         0        2        ?  3   \n",
       "...    ...  ..  ...      ...       ...       ...      ...      ... ..   \n",
       "1695  1696  77    0        0         4         2        1        ?  2   \n",
       "1696  1697  70    0        0         6         2        1        ?  2   \n",
       "1697  1698  55    1        3         6         2        2        ?  0   \n",
       "1698  1699  79    0        2         2         2        1        ?  2   \n",
       "1699  1700  63    1        2         ?         ?        ?        ?  2   \n",
       "\n",
       "     SIM_GIPERT  ... JELUD_TAH FIBR_JELUD A_V_BLOK OTEK_LANC RAZRIV DRESSLER   \n",
       "0             0  ...         0          0        0         0      0        0  \\\n",
       "1             0  ...         0          0        0         0      0        0   \n",
       "2             0  ...         0          0        0         0      0        0   \n",
       "3             0  ...         0          0        0         0      0        0   \n",
       "4             0  ...         0          0        0         0      0        0   \n",
       "...         ...  ...       ...        ...      ...       ...    ...      ...   \n",
       "1695          0  ...         0          0        1         0      1        0   \n",
       "1696          0  ...         0          0        0         0      0        0   \n",
       "1697          0  ...         0          0        0         0      0        0   \n",
       "1698          0  ...         0          0        0         1      0        0   \n",
       "1699          0  ...         0          0        0         0      0        0   \n",
       "\n",
       "     ZSN REC_IM P_IM_STEN LET_IS  \n",
       "0      0      0         0      0  \n",
       "1      0      0         0      0  \n",
       "2      0      0         0      0  \n",
       "3      1      0         0      0  \n",
       "4      0      0         0      0  \n",
       "...   ..    ...       ...    ...  \n",
       "1695   0      0         0      3  \n",
       "1696   0      0         0      1  \n",
       "1697   0      1         0      6  \n",
       "1698   0      0         0      1  \n",
       "1699   0      0         0      1  \n",
       "\n",
       "[1700 rows x 124 columns]"
      ]
     },
     "execution_count": 3,
     "metadata": {},
     "output_type": "execute_result"
    }
   ],
   "source": [
    "data = pd.read_csv(\"MI.data\", sep=',',header = None)\n",
    "column_names = [\n",
    "    'ID', 'AGE', 'SEX', 'INF_ANAM', 'STENOK_AN', 'FK_STENOK', 'IBS_POST', 'IBS_NASL', 'GB', 'SIM_GIPERT',\n",
    "    'DLIT_AG', 'ZSN_A', 'nr_11', 'nr_01', 'nr_02', 'nr_03', 'nr_04', 'nr_07', 'nr_08', 'np_01', 'np_04', \n",
    "    'np_05', 'np_07', 'np_08', 'np_09', 'np_10', 'endocr_01', 'endocr_02', 'endocr_03', 'zab_leg_01', \n",
    "    'zab_leg_02', 'zab_leg_03', 'zab_leg_04', 'zab_leg_06', 'S_AD_KBRIG', 'D_AD_KBRIG', 'S_AD_ORIT', \n",
    "    'D_AD_ORIT', 'O_L_POST', 'K_SH_POST', 'MP_TP_POST', 'SVT_POST', 'GT_POST', 'FIB_G_POST', 'ant_im', \n",
    "    'lat_im', 'inf_im', 'post_im', 'IM_PG_P', 'ritm_ecg_p_01', 'ritm_ecg_p_02', 'ritm_ecg_p_04', \n",
    "    'ritm_ecg_p_06', 'ritm_ecg_p_07', 'ritm_ecg_p_08', 'n_r_ecg_p_01', 'n_r_ecg_p_02', 'n_r_ecg_p_03', \n",
    "    'n_r_ecg_p_04', 'n_r_ecg_p_05', 'n_r_ecg_p_06', 'n_r_ecg_p_08', 'n_r_ecg_p_09', 'n_r_ecg_p_10', \n",
    "    'n_p_ecg_p_01', 'n_p_ecg_p_03', 'n_p_ecg_p_04', 'n_p_ecg_p_05', 'n_p_ecg_p_06', 'n_p_ecg_p_07', \n",
    "    'n_p_ecg_p_08', 'n_p_ecg_p_09', 'n_p_ecg_p_10', 'n_p_ecg_p_11', 'n_p_ecg_p_12', 'fibr_ter_01', \n",
    "    'fibr_ter_02', 'fibr_ter_03', 'fibr_ter_05', 'fibr_ter_06', 'fibr_ter_07', 'fibr_ter_08', 'GIPO_K', \n",
    "    'K_BLOOD', 'GIPER_NA', 'NA_BLOOD', 'ALT_BLOOD', 'AST_BLOOD', 'KFK_BLOOD', 'L_BLOOD', 'ROE', 'TIME_B_S', \n",
    "    'R_AB_1_n', 'R_AB_2_n', 'R_AB_3_n', 'NA_KB', 'NOT_NA_KB', 'LID_KB', 'NITR_S', 'NA_R_1_n', 'NA_R_2_n', \n",
    "    'NA_R_3_n', 'NOT_NA_1_n', 'NOT_NA_2_n', 'NOT_NA_3_n', 'LID_S_n', 'B_BLOK_S_n', 'ANT_CA_S_n', 'GEPAR_S_n', \n",
    "    'ASP_S_n', 'TIKL_S_n', 'TRENT_S_n', 'FIBR_PREDS', 'PREDS_TAH', 'JELUD_TAH', 'FIBR_JELUD', 'A_V_BLOK', \n",
    "    'OTEK_LANC', 'RAZRIV', 'DRESSLER', 'ZSN', 'REC_IM', 'P_IM_STEN', 'LET_IS']\n",
    "new_column_names = {i: col for i, col in enumerate(column_names)}\n",
    "new_column_names\n",
    "data.rename(columns=new_column_names, inplace = True)\n",
    "data"
   ]
  },
  {
   "cell_type": "markdown",
   "metadata": {},
   "source": [
    "Some of the numeric data is saved as integer. we will fix this here"
   ]
  },
  {
   "cell_type": "code",
   "execution_count": 4,
   "metadata": {},
   "outputs": [],
   "source": [
    "objects = data.select_dtypes(include='object')\n",
    "data[objects.columns] = objects.apply(pd.to_numeric, errors='coerce')"
   ]
  },
  {
   "cell_type": "markdown",
   "metadata": {},
   "source": [
    "**Exploratory Data Analysis**"
   ]
  },
  {
   "cell_type": "code",
   "execution_count": 5,
   "metadata": {},
   "outputs": [],
   "source": [
    "data.isnull().values.any() #we have no null values \n",
    "data.replace('?', pd.NA, inplace=True) #replacing question marks with NA"
   ]
  },
  {
   "cell_type": "code",
   "execution_count": 6,
   "metadata": {},
   "outputs": [
    {
     "data": {
      "text/plain": [
       "ID                  0\n",
       "AGE                 8\n",
       "SEX                 0\n",
       "INF_ANAM            4\n",
       "STENOK_AN         106\n",
       "FK_STENOK          73\n",
       "IBS_POST           51\n",
       "IBS_NASL         1628\n",
       "GB                  9\n",
       "SIM_GIPERT          8\n",
       "DLIT_AG           248\n",
       "ZSN_A              54\n",
       "nr_11              21\n",
       "nr_01              21\n",
       "nr_02              21\n",
       "nr_03              21\n",
       "nr_04              21\n",
       "nr_07              21\n",
       "nr_08              21\n",
       "np_01              18\n",
       "np_04              18\n",
       "np_05              18\n",
       "np_07              18\n",
       "np_08              18\n",
       "np_09              18\n",
       "np_10              18\n",
       "endocr_01          11\n",
       "endocr_02          10\n",
       "endocr_03          10\n",
       "zab_leg_01          7\n",
       "zab_leg_02          7\n",
       "zab_leg_03          7\n",
       "zab_leg_04          7\n",
       "zab_leg_06          7\n",
       "S_AD_KBRIG       1076\n",
       "D_AD_KBRIG       1076\n",
       "S_AD_ORIT         267\n",
       "D_AD_ORIT         267\n",
       "O_L_POST           12\n",
       "K_SH_POST          15\n",
       "MP_TP_POST         14\n",
       "SVT_POST           12\n",
       "GT_POST            12\n",
       "FIB_G_POST         12\n",
       "ant_im             83\n",
       "lat_im             80\n",
       "inf_im             80\n",
       "post_im            72\n",
       "IM_PG_P             1\n",
       "ritm_ecg_p_01     152\n",
       "ritm_ecg_p_02     152\n",
       "ritm_ecg_p_04     152\n",
       "ritm_ecg_p_06     152\n",
       "ritm_ecg_p_07     152\n",
       "ritm_ecg_p_08     152\n",
       "n_r_ecg_p_01      115\n",
       "n_r_ecg_p_02      115\n",
       "n_r_ecg_p_03      115\n",
       "n_r_ecg_p_04      115\n",
       "n_r_ecg_p_05      115\n",
       "n_r_ecg_p_06      115\n",
       "n_r_ecg_p_08      115\n",
       "n_r_ecg_p_09      115\n",
       "n_r_ecg_p_10      115\n",
       "n_p_ecg_p_01      115\n",
       "n_p_ecg_p_03      115\n",
       "n_p_ecg_p_04      115\n",
       "n_p_ecg_p_05      115\n",
       "n_p_ecg_p_06      115\n",
       "n_p_ecg_p_07      115\n",
       "n_p_ecg_p_08      115\n",
       "n_p_ecg_p_09      115\n",
       "n_p_ecg_p_10      115\n",
       "n_p_ecg_p_11      115\n",
       "n_p_ecg_p_12      115\n",
       "fibr_ter_01        10\n",
       "fibr_ter_02        10\n",
       "fibr_ter_03        10\n",
       "fibr_ter_05        10\n",
       "fibr_ter_06        10\n",
       "fibr_ter_07        10\n",
       "fibr_ter_08        10\n",
       "GIPO_K            369\n",
       "K_BLOOD           371\n",
       "GIPER_NA          375\n",
       "NA_BLOOD          375\n",
       "ALT_BLOOD         284\n",
       "AST_BLOOD         285\n",
       "KFK_BLOOD        1696\n",
       "L_BLOOD           125\n",
       "ROE               203\n",
       "TIME_B_S          126\n",
       "R_AB_1_n           16\n",
       "R_AB_2_n          108\n",
       "R_AB_3_n          128\n",
       "NA_KB             657\n",
       "NOT_NA_KB         686\n",
       "LID_KB            677\n",
       "NITR_S              9\n",
       "NA_R_1_n            5\n",
       "NA_R_2_n          108\n",
       "NA_R_3_n          131\n",
       "NOT_NA_1_n         10\n",
       "NOT_NA_2_n        110\n",
       "NOT_NA_3_n        131\n",
       "LID_S_n            10\n",
       "B_BLOK_S_n         11\n",
       "ANT_CA_S_n         13\n",
       "GEPAR_S_n          17\n",
       "ASP_S_n            17\n",
       "TIKL_S_n           16\n",
       "TRENT_S_n          16\n",
       "FIBR_PREDS          0\n",
       "PREDS_TAH           0\n",
       "JELUD_TAH           0\n",
       "FIBR_JELUD          0\n",
       "A_V_BLOK            0\n",
       "OTEK_LANC           0\n",
       "RAZRIV              0\n",
       "DRESSLER            0\n",
       "ZSN                 0\n",
       "REC_IM              0\n",
       "P_IM_STEN           0\n",
       "LET_IS              0\n",
       "dtype: int64"
      ]
     },
     "execution_count": 6,
     "metadata": {},
     "output_type": "execute_result"
    }
   ],
   "source": [
    "pd.set_option('display.max_columns', None)\n",
    "pd.set_option('display.max_rows', None)\n",
    "data.isnull().sum()"
   ]
  },
  {
   "cell_type": "markdown",
   "metadata": {},
   "source": [
    "AGE"
   ]
  },
  {
   "cell_type": "code",
   "execution_count": 7,
   "metadata": {},
   "outputs": [
    {
     "data": {
      "image/png": "[encoded data removed]",
      "text/plain": [
       "<Figure size 1800x800 with 1 Axes>"
      ]
     },
     "metadata": {},
     "output_type": "display_data"
    }
   ],
   "source": [
    "age_count = data['AGE'].value_counts().sort_index()\n",
    "sorted_ages = data['AGE'].dropna().sort_values() #had to sort as they were unordered\n",
    "plt.figure(figsize=(18,8)) #just making sure we have a big enough plot to display all ages clearly \n",
    "sns.histplot(sorted_ages, binwidth = 1)\n",
    "plt.show()"
   ]
  },
  {
   "cell_type": "markdown",
   "metadata": {},
   "source": [
    "SEX"
   ]
  },
  {
   "cell_type": "code",
   "execution_count": 8,
   "metadata": {},
   "outputs": [
    {
     "name": "stdout",
     "output_type": "stream",
     "text": [
      "SEX\n",
      "1    1065\n",
      "0     635\n",
      "Name: count, dtype: int64\n"
     ]
    },
    {
     "data": {
      "text/plain": [
       "Text(0, 0.5, 'Count')"
      ]
     },
     "execution_count": 8,
     "metadata": {},
     "output_type": "execute_result"
    },
    {
     "data": {
      "image/png": "[encoded data removed]",
      "text/plain": [
       "<Figure size 640x480 with 1 Axes>"
      ]
     },
     "metadata": {},
     "output_type": "display_data"
    }
   ],
   "source": [
    "sex_count = data['SEX'].value_counts()\n",
    "print(sex_count)\n",
    "sex_categories = ['male', 'female']\n",
    "plt.bar(sex_categories, sex_count)\n",
    "plt.title(\"Count of genders\")\n",
    "plt.ylabel(\"Count\")"
   ]
  },
  {
   "cell_type": "markdown",
   "metadata": {},
   "source": [
    "Previous myocardial infarctions"
   ]
  },
  {
   "cell_type": "code",
   "execution_count": 9,
   "metadata": {},
   "outputs": [
    {
     "name": "stdout",
     "output_type": "stream",
     "text": [
      "INF_ANAM\n",
      "0.0    1060\n",
      "1.0     410\n",
      "2.0     147\n",
      "3.0      79\n",
      "Name: count, dtype: int64\n"
     ]
    },
    {
     "data": {
      "text/plain": [
       "Text(0.5, 0, 'number of myocardial infarctions')"
      ]
     },
     "execution_count": 9,
     "metadata": {},
     "output_type": "execute_result"
    },
    {
     "data": {
      "image/png": "[encoded data removed]",
      "text/plain": [
       "<Figure size 640x480 with 1 Axes>"
      ]
     },
     "metadata": {},
     "output_type": "display_data"
    }
   ],
   "source": [
    "myo_infar_count = data['INF_ANAM'].value_counts()\n",
    "print(myo_infar_count)\n",
    "myoinfar_categories =myo_infar_count.index\n",
    "plt.bar(myoinfar_categories, myo_infar_count)\n",
    "plt.title(\"Previous myocardial infarctions\")\n",
    "plt.ylabel(\"Count\") \n",
    "plt.xlabel(\"number of myocardial infarctions\")"
   ]
  },
  {
   "cell_type": "markdown",
   "metadata": {},
   "source": [
    "coronary heart disease"
   ]
  },
  {
   "cell_type": "code",
   "execution_count": 10,
   "metadata": {},
   "outputs": [
    {
     "name": "stdout",
     "output_type": "stream",
     "text": [
      "IBS_POST\n",
      "2.0    683\n",
      "1.0    548\n",
      "0.0    418\n",
      "Name: count, dtype: int64\n"
     ]
    },
    {
     "data": {
      "text/plain": [
       "Text(0, 0.5, 'Count')"
      ]
     },
     "execution_count": 10,
     "metadata": {},
     "output_type": "execute_result"
    },
    {
     "data": {
      "image/png": "[encoded data removed]",
      "text/plain": [
       "<Figure size 640x480 with 1 Axes>"
      ]
     },
     "metadata": {},
     "output_type": "display_data"
    }
   ],
   "source": [
    "chd_count = data['IBS_POST'].value_counts()\n",
    "print(chd_count)\n",
    "categories = ['unstable angina pectoris', 'exertional angina pectoris', 'None']\n",
    "plt.bar(categories, chd_count)\n",
    "plt.xticks(rotation = 15)\n",
    "plt.title(\"Coronary Heard Disease\")\n",
    "plt.ylabel(\"Count\")"
   ]
  },
  {
   "cell_type": "markdown",
   "metadata": {},
   "source": [
    "Heredity"
   ]
  },
  {
   "cell_type": "code",
   "execution_count": 11,
   "metadata": {},
   "outputs": [
    {
     "name": "stdout",
     "output_type": "stream",
     "text": [
      "IBS_NASL\n",
      "0.0    45\n",
      "1.0    27\n",
      "Name: count, dtype: int64\n"
     ]
    },
    {
     "data": {
      "text/plain": [
       "Text(0.5, 1.0, 'Heredity of CHD')"
      ]
     },
     "execution_count": 11,
     "metadata": {},
     "output_type": "execute_result"
    },
    {
     "data": {
      "image/png": "[encoded data removed]",
      "text/plain": [
       "<Figure size 640x480 with 1 Axes>"
      ]
     },
     "metadata": {},
     "output_type": "display_data"
    }
   ],
   "source": [
    "heredity_count = data['IBS_NASL'].value_counts()\n",
    "print(heredity_count)\n",
    "categories = heredity_count.index\n",
    "plt.bar(categories, heredity_count) \n",
    "plt.title(\"Heredity of CHD\")\n",
    "#many empty values here "
   ]
  },
  {
   "cell_type": "markdown",
   "metadata": {},
   "source": [
    "Diabetes"
   ]
  },
  {
   "cell_type": "code",
   "execution_count": 12,
   "metadata": {},
   "outputs": [
    {
     "name": "stdout",
     "output_type": "stream",
     "text": [
      "endocr_01\n",
      "0.0    1461\n",
      "1.0     228\n",
      "Name: count, dtype: int64\n"
     ]
    },
    {
     "data": {
      "text/plain": [
       "Text(0.5, 1.0, 'Individual suffers from diabetes')"
      ]
     },
     "execution_count": 12,
     "metadata": {},
     "output_type": "execute_result"
    },
    {
     "data": {
      "image/png": "[encoded data removed]",
      "text/plain": [
       "<Figure size 640x480 with 1 Axes>"
      ]
     },
     "metadata": {},
     "output_type": "display_data"
    }
   ],
   "source": [
    "diabetes_count = data['endocr_01'].value_counts()\n",
    "print(diabetes_count) \n",
    "categories = diabetes_count.index\n",
    "plt.bar(categories, diabetes_count)\n",
    "plt.title(\"Individual suffers from diabetes\")"
   ]
  },
  {
   "cell_type": "markdown",
   "metadata": {},
   "source": [
    "Obesity"
   ]
  },
  {
   "cell_type": "code",
   "execution_count": 13,
   "metadata": {},
   "outputs": [
    {
     "name": "stdout",
     "output_type": "stream",
     "text": [
      "endocr_02\n",
      "0.0    1648\n",
      "1.0      42\n",
      "Name: count, dtype: int64\n"
     ]
    },
    {
     "data": {
      "text/plain": [
       "Text(0.5, 1.0, 'Individual suffers from obesity')"
      ]
     },
     "execution_count": 13,
     "metadata": {},
     "output_type": "execute_result"
    },
    {
     "data": {
      "image/png": "[encoded data removed]",
      "text/plain": [
       "<Figure size 640x480 with 1 Axes>"
      ]
     },
     "metadata": {},
     "output_type": "display_data"
    }
   ],
   "source": [
    "obesity_count = data['endocr_02'].value_counts() \n",
    "print(obesity_count)\n",
    "categories = obesity_count.index\n",
    "plt.bar(categories, obesity_count)\n",
    "plt.title(\"Individual suffers from obesity\")"
   ]
  },
  {
   "cell_type": "markdown",
   "metadata": {},
   "source": [
    "Use of different drugs by emergency team "
   ]
  },
  {
   "cell_type": "code",
   "execution_count": 14,
   "metadata": {},
   "outputs": [
    {
     "name": "stdout",
     "output_type": "stream",
     "text": [
      "opiod administered: 0\n",
      "opiod not administered: 0\n",
      "\n",
      "\n",
      "NSAIDs administered: 0\n",
      "NSAIDs not administered: 0\n",
      "\n",
      "\n",
      "lidocaine administered: 0\n",
      "lidocaine not administered: 0\n",
      "\n",
      "\n",
      "0\n"
     ]
    }
   ],
   "source": [
    "drugs = [(\"opiod\", 'NA_KB'), (\"NSAIDs\", 'NOT_NA_KB'), (\"lidocaine\", 'LID_KB')]\n",
    "cols = []\n",
    "for drug, column_name in drugs:\n",
    "        column = data[column_name].sort_values()\n",
    "        count = column.value_counts()\n",
    "        print(f\"{drug} administered: {count.get('1', 0)}\")\n",
    "        print(f\"{drug} not administered: {count.get('0', 0)}\")\n",
    "        cols.append(column_name)\n",
    "        print('\\n')\n",
    "drug_emergency_cols = data[cols]\n",
    "null_counts = drug_emergency_cols.isnull().all().sum()\n",
    "print(null_counts) #in all cases some drug was administered "
   ]
  },
  {
   "cell_type": "markdown",
   "metadata": {},
   "source": [
    "use of drugs in the ICU"
   ]
  },
  {
   "cell_type": "code",
   "execution_count": 15,
   "metadata": {},
   "outputs": [
    {
     "name": "stdout",
     "output_type": "stream",
     "text": [
      "opiod first hour administered: 0\n",
      "opiod first hour not administered: 0\n",
      "\n",
      "\n",
      "opiods second day administered: 0\n",
      "opiods second day not administered: 0\n",
      "\n",
      "\n",
      "opiods third day administered: 0\n",
      "opiods third day not administered: 0\n",
      "\n",
      "\n",
      "liquid nitrates administered: 0\n",
      "liquid nitrates not administered: 0\n",
      "\n",
      "\n",
      "administration of NSAIDs in first hours of hospital period: NOT_NA_1_n\n",
      "0.0    1237\n",
      "1.0     376\n",
      "2.0      53\n",
      "3.0      17\n",
      "4.0       7\n",
      "Name: count, dtype: int64\n",
      "\n",
      "\n",
      "NSAIDs second day administered: 0\n",
      "NSAIDs second day not administered: 0\n",
      "\n",
      "\n",
      "NSAIDs third day administered: 0\n",
      "NSAIDs third day not administered: 0\n",
      "\n",
      "\n",
      "lidocaine administered: 0\n",
      "lidocaine not administered: 0\n",
      "\n",
      "\n",
      "beta-blockers administered: 0\n",
      "beta-blockers not administered: 0\n",
      "\n",
      "\n",
      "calcium channel blockers administered: 0\n",
      "calcium channel blockers not administered: 0\n",
      "\n",
      "\n",
      "anticoagulants administered: 0\n",
      "anticoagulants not administered: 0\n",
      "\n",
      "\n",
      "acetylsalicylic administered: 0\n",
      "acetylsalicylic not administered: 0\n",
      "\n",
      "\n",
      "Ticlid administered: 0\n",
      "Ticlid not administered: 0\n",
      "\n",
      "\n"
     ]
    }
   ],
   "source": [
    "drugs = [(\"opiod first hour\", 'NA_R_1_n'), (\"opiods second day\", 'NA_R_2_n'), (\"opiods third day\", 'NA_R_3_n'), (\"liquid nitrates\", 'NITR_S'),\n",
    "        (\"NSAIDs second day\", 'NOT_NA_2_n'), (\"NSAIDs third day\", 'NOT_NA_3_n'), (\"lidocaine\", 'LID_S_n'), (\"beta-blockers\", 'B_BLOK_S_n'),\n",
    "        (\"calcium channel blockers\", 'ANT_CA_S_n'), (\"anticoagulants\", 'GEPAR_S_n'), (\"acetylsalicylic\", 'ASP_S_n'), (\"Ticlid\", 'TRENT_S_n')]\n",
    "for drug, column_name in drugs:\n",
    "        column = data[column_name].sort_values()\n",
    "        count = column.value_counts()\n",
    "        if drug == \"NSAIDs second day\": \n",
    "            #special case handling for this column\n",
    "            print(f\"administration of NSAIDs in first hours of hospital period: {data['NOT_NA_1_n'].value_counts()}\")\n",
    "            print('\\n')\n",
    "        print(f\"{drug} administered: {count.get('1', 0)}\")\n",
    "        print(f\"{drug} not administered: {count.get('0', 0)}\")\n",
    "        print('\\n')"
   ]
  },
  {
   "cell_type": "markdown",
   "metadata": {},
   "source": [
    "Lethal outcome"
   ]
  },
  {
   "cell_type": "code",
   "execution_count": 16,
   "metadata": {},
   "outputs": [
    {
     "name": "stdout",
     "output_type": "stream",
     "text": [
      "LET_IS\n",
      "0    1429\n",
      "1     110\n",
      "2      18\n",
      "3      54\n",
      "4      23\n",
      "5      12\n",
      "6      27\n",
      "7      27\n",
      "Name: count, dtype: int64\n"
     ]
    },
    {
     "data": {
      "image/png": "[encoded data removed]",
      "text/plain": [
       "<Figure size 1000x500 with 1 Axes>"
      ]
     },
     "metadata": {},
     "output_type": "display_data"
    }
   ],
   "source": [
    "outcome = data['LET_IS'].value_counts().sort_index()\n",
    "print(outcome)\n",
    "categories = [\"alive\", \"cardiogenic shock\", \"pulmonary edema\", \"myocardial rupture\", \"progress of congestive heart failure\", \"thromboembolism\", \n",
    "              \"asystole\", \"ventricular fibrillation\"]\n",
    "plt.figure(figsize=(10, 5))\n",
    "plt.bar(categories, outcome) \n",
    "plt.title(\"Lethal outcome\") \n",
    "plt.xticks(rotation = 20)\n",
    "plt.show()"
   ]
  },
  {
   "cell_type": "markdown",
   "metadata": {},
   "source": [
    "## Let's search for some dependencies in our data\n",
    "Since we have lots of collumns, we need to evaluate beforehand which features and outcomes we want to plot against each other"
   ]
  },
  {
   "cell_type": "markdown",
   "metadata": {},
   "source": [
    "### Let's just do some \"blind\" analysis"
   ]
  },
  {
   "cell_type": "markdown",
   "metadata": {},
   "source": [
    "discard columns with too few entries"
   ]
  },
  {
   "cell_type": "code",
   "execution_count": 17,
   "metadata": {},
   "outputs": [
    {
     "name": "stdout",
     "output_type": "stream",
     "text": [
      "122\n"
     ]
    },
    {
     "name": "stderr",
     "output_type": "stream",
     "text": [
      "C:\\Users\\yoelh\\AppData\\Local\\Temp\\ipykernel_14608\\1216092052.py:4: SettingWithCopyWarning: \n",
      "A value is trying to be set on a copy of a slice from a DataFrame\n",
      "\n",
      "See the caveats in the documentation: https://pandas.pydata.org/pandas-docs/stable/user_guide/indexing.html#returning-a-view-versus-a-copy\n",
      "  data_reduced.drop(labels = ['ID'], axis = 1, inplace = True)\n"
     ]
    }
   ],
   "source": [
    "minimum_count_columns = data.count()[data.count() > 400].index.tolist()\n",
    "print(len(minimum_count_columns))\n",
    "data_reduced = data[minimum_count_columns]\n",
    "data_reduced.drop(labels = ['ID'], axis = 1, inplace = True)\n"
   ]
  },
  {
   "cell_type": "code",
   "execution_count": 18,
   "metadata": {},
   "outputs": [
    {
     "name": "stdout",
     "output_type": "stream",
     "text": [
      "High correlation pairs (column1, column2, correlation):\n",
      "('S_AD_ORIT', 'D_AD_ORIT', 0.8612659405801618)\n",
      "('MP_TP_POST', 'ritm_ecg_p_02', 0.8456950630339481)\n",
      "('S_AD_KBRIG', 'D_AD_KBRIG', 0.8441439684041745)\n",
      "('GB', 'DLIT_AG', 0.7758654040495631)\n",
      "('ritm_ecg_p_01', 'ritm_ecg_p_07', 0.7652924142188313)\n",
      "('STENOK_AN', 'FK_STENOK', 0.7630190221557106)\n",
      "('GIPO_K', 'K_BLOOD', 0.7159237474957532)\n",
      "('nr_04', 'n_r_ecg_p_06', 0.6855221268979511)\n",
      "('ritm_ecg_p_04', 'n_p_ecg_p_06', 0.6770057912691977)\n",
      "('ritm_ecg_p_02', 'n_r_ecg_p_05', 0.6397100814551602)\n",
      "('R_AB_2_n', 'NA_R_2_n', 0.6190305355513314)\n",
      "('S_AD_KBRIG', 'S_AD_ORIT', 0.611364727936855)\n",
      "('R_AB_3_n', 'NA_R_3_n', 0.5971399567602095)\n",
      "('MP_TP_POST', 'n_r_ecg_p_05', 0.5969615355522121)\n",
      "('SVT_POST', 'n_r_ecg_p_08', 0.5655622620267294)\n",
      "('ant_im', 'inf_im', 0.5606244815486715)\n",
      "('ant_im', 'lat_im', 0.560580173953938)\n",
      "('R_AB_1_n', 'NA_R_1_n', 0.5569258808007785)\n",
      "('D_AD_KBRIG', 'D_AD_ORIT', 0.5559600310828934)\n",
      "('S_AD_KBRIG', 'D_AD_ORIT', 0.5555008545642365)\n",
      "('ritm_ecg_p_02', 'n_r_ecg_p_06', 0.5523507618599798)\n",
      "('D_AD_KBRIG', 'S_AD_ORIT', 0.5430475199056635)\n",
      "('D_AD_ORIT', 'K_SH_POST', 0.5399247105401223)\n",
      "('NOT_NA_2_n', 'NOT_NA_3_n', 0.5227377076004497)\n",
      "('ALT_BLOOD', 'AST_BLOOD', 0.5194490805483056)\n",
      "('nr_04', 'ritm_ecg_p_02', 0.5090028881641244)\n",
      "('D_AD_KBRIG', 'K_SH_POST', 0.5017883098984762)\n",
      "('MP_TP_POST', 'n_r_ecg_p_06', 0.49351948527311307)\n",
      "('nr_04', 'MP_TP_POST', 0.4706323740061637)\n",
      "('S_AD_ORIT', 'K_SH_POST', 0.44830049486780676)\n",
      "('lat_im', 'inf_im', 0.41777594673205626)\n",
      "('GIPER_NA', 'NA_BLOOD', 0.4072009491887101)\n",
      "('AGE', 'SEX', 0.39425029613072216)\n",
      "('S_AD_KBRIG', 'K_SH_POST', 0.3875644115065266)\n",
      "('FK_STENOK', 'IBS_POST', 0.38514931320559304)\n",
      "('R_AB_2_n', 'NOT_NA_2_n', 0.3666282833044581)\n",
      "('ritm_ecg_p_01', 'ritm_ecg_p_02', 0.3600418660714396)\n",
      "('SEX', 'DLIT_AG', 0.3458970877661652)\n",
      "('R_AB_3_n', 'NOT_NA_3_n', 0.3425907144842428)\n",
      "('INF_ANAM', 'FK_STENOK', 0.33304036761201516)\n",
      "('DLIT_AG', 'S_AD_ORIT', 0.3329757762119063)\n",
      "('STENOK_AN', 'IBS_POST', 0.33291429405668477)\n",
      "('MP_TP_POST', 'ritm_ecg_p_01', 0.3328179855878742)\n",
      "('RAZRIV', 'LET_IS', 0.33080044048706464)\n",
      "('INF_ANAM', 'STENOK_AN', 0.3305491615896783)\n",
      "('ant_im', 'post_im', 0.323392780011673)\n",
      "('NITR_S', 'OTEK_LANC', 0.3213941716334199)\n",
      "('NOT_NA_1_n', 'NOT_NA_2_n', 0.320910912766127)\n",
      "('inf_im', 'post_im', 0.3143477038112993)\n",
      "('DLIT_AG', 'S_AD_KBRIG', 0.31121720512479706)\n",
      "('np_08', 'n_p_ecg_p_10', 0.3069391378947333)\n",
      "('nr_07', 'np_05', 0.3006110399565219)\n",
      "('K_BLOOD', 'NA_BLOOD', 0.3004296055340499)\n"
     ]
    }
   ],
   "source": [
    "corr = data_reduced.corr()\n",
    "abs_corr = corr.abs()\n",
    "np.fill_diagonal(abs_corr.values, 0)\n",
    "rows, cols = np.triu_indices_from(abs_corr, k=1)\n",
    "\n",
    "high_corr_pairs = [(abs_corr.columns[i], abs_corr.columns[j], abs_corr.iloc[i, j])\n",
    "                   for i, j in zip(rows, cols) if abs(abs_corr.iloc[i, j]) > 0.3]\n",
    "\n",
    "high_corr_pairs_sorted = sorted(high_corr_pairs, key=lambda x: x[2], reverse=True)\n",
    "\n",
    "print(\"High correlation pairs (column1, column2, correlation):\")\n",
    "for pair in high_corr_pairs_sorted:\n",
    "    print(pair)\n"
   ]
  },
  {
   "cell_type": "code",
   "execution_count": 19,
   "metadata": {},
   "outputs": [
    {
     "name": "stdout",
     "output_type": "stream",
     "text": [
      "The following targets are present in the set:\n",
      "{'LET_IS', 'OTEK_LANC', 'RAZRIV'}\n"
     ]
    }
   ],
   "source": [
    "unique_columns = set()\n",
    "for pair in high_corr_pairs_sorted:\n",
    "    unique_columns.update([pair[0], pair[1]])\n",
    "target_variables = {\"FIBR_PREDS\", \"PREDS_TAH\", \"JELUD_TAH\", \"FIBR_JELUD\", \n",
    "                   \"A_V_BLOK\", \"OTEK_LANC\", \"RAZRIV\", \"DRESSLER\", \n",
    "                   \"ZSN\", \"REC_IM\", \"P_IM_STEN\", \"LET_IS\"}\n",
    "present_values = target_variables & unique_columns\n",
    "if present_values:\n",
    "    print(\"The following targets are present in the set:\")\n",
    "    print(present_values)\n",
    "else:\n",
    "    print(\"None of the specified values is present in the set.\")"
   ]
  },
  {
   "cell_type": "code",
   "execution_count": 20,
   "metadata": {},
   "outputs": [
    {
     "name": "stdout",
     "output_type": "stream",
     "text": [
      "The pairs with 'LET_IS' are:\n",
      "('RAZRIV', 'LET_IS', 0.33080044048706464)\n"
     ]
    }
   ],
   "source": [
    "pairs_with_LET_IS = [pair for pair in high_corr_pairs_sorted if \"LET_IS\" in pair[:2]]\n",
    "\n",
    "if pairs_with_LET_IS:\n",
    "    print(\"The pairs with 'LET_IS' are:\")\n",
    "    for pair in pairs_with_LET_IS:\n",
    "        print(pair)\n",
    "else:\n",
    "    print(\"No pairs with 'LET_IS' were found.\")"
   ]
  },
  {
   "cell_type": "code",
   "execution_count": 21,
   "metadata": {},
   "outputs": [
    {
     "name": "stdout",
     "output_type": "stream",
     "text": [
      "The pairs with 'RAZRIV' are:\n",
      "('RAZRIV', 'LET_IS', 0.33080044048706464)\n"
     ]
    }
   ],
   "source": [
    "pairs_with_RAZRIV = [pair for pair in high_corr_pairs_sorted if \"RAZRIV\" in pair[:2]]\n",
    "\n",
    "if pairs_with_RAZRIV:\n",
    "    print(\"The pairs with 'RAZRIV' are:\")\n",
    "    for pair in pairs_with_RAZRIV:\n",
    "        print(pair)\n",
    "else:\n",
    "    print(\"No pairs with 'RAZRIV' were found.\")"
   ]
  },
  {
   "cell_type": "code",
   "execution_count": 22,
   "metadata": {},
   "outputs": [
    {
     "name": "stdout",
     "output_type": "stream",
     "text": [
      "The pairs with 'OTEK_LANC' are:\n",
      "('NITR_S', 'OTEK_LANC', 0.3213941716334199)\n"
     ]
    }
   ],
   "source": [
    "pairs_with_OTEK_LANC = [pair for pair in high_corr_pairs_sorted if \"OTEK_LANC\" in pair[:2]]\n",
    "\n",
    "if pairs_with_OTEK_LANC:\n",
    "    print(\"The pairs with 'OTEK_LANC' are:\")\n",
    "    for pair in pairs_with_OTEK_LANC:\n",
    "        print(pair)\n",
    "else:\n",
    "    print(\"No pairs with 'OTEK_LANC' were found.\")"
   ]
  },
  {
   "cell_type": "markdown",
   "metadata": {},
   "source": [
    "We have three targets which have a correlation value above 0.3. However Myocardial rupture correlates with lethality (so two outcomes, which makes sense), and pulmonary edema with use of liquid nitrates in the ICU, but the use of liquid nitrates seems to be a standard treatment when there is a pulmonary edema:\n",
    "https://www.ncbi.nlm.nih.gov/pmc/articles/PMC5408000/"
   ]
  },
  {
   "cell_type": "markdown",
   "metadata": {},
   "source": [
    "### Redo the analysis with a lower threshold of 0.2"
   ]
  },
  {
   "cell_type": "code",
   "execution_count": 23,
   "metadata": {},
   "outputs": [
    {
     "name": "stdout",
     "output_type": "stream",
     "text": [
      "The following targets are present in the set:\n",
      "{'FIBR_PREDS', 'A_V_BLOK', 'FIBR_JELUD', 'LET_IS', 'OTEK_LANC', 'RAZRIV', 'PREDS_TAH'}\n"
     ]
    }
   ],
   "source": [
    "high_corr_pairs = [(abs_corr.columns[i], abs_corr.columns[j], abs_corr.iloc[i, j])\n",
    "                   for i, j in zip(rows, cols) if abs(abs_corr.iloc[i, j]) > 0.2]\n",
    "\n",
    "high_corr_pairs_sorted = sorted(high_corr_pairs, key=lambda x: x[2], reverse=True)\n",
    "\n",
    "unique_columns = set()\n",
    "for pair in high_corr_pairs_sorted:\n",
    "    unique_columns.update([pair[0], pair[1]])\n",
    "target_variables = {\"FIBR_PREDS\", \"PREDS_TAH\", \"JELUD_TAH\", \"FIBR_JELUD\", \n",
    "                   \"A_V_BLOK\", \"OTEK_LANC\", \"RAZRIV\", \"DRESSLER\", \n",
    "                   \"ZSN\", \"REC_IM\", \"P_IM_STEN\", \"LET_IS\"}\n",
    "present_values = target_variables & unique_columns\n",
    "if present_values:\n",
    "    print(\"The following targets are present in the set:\")\n",
    "    print(present_values)\n",
    "else:\n",
    "    print(\"None of the specified values is present in the set.\")"
   ]
  },
  {
   "cell_type": "code",
   "execution_count": 24,
   "metadata": {},
   "outputs": [],
   "source": [
    "def corr_finder(target):    \n",
    "    pairs = [pair for pair in high_corr_pairs_sorted if target in pair[:2]]\n",
    "\n",
    "    if pairs:\n",
    "        print(\"The pairs with \", target,\" are:\")\n",
    "        for pair in pairs:\n",
    "            print(pair)\n",
    "    else:\n",
    "        print(\"No pairs with \", target,\" were found.\")"
   ]
  },
  {
   "cell_type": "code",
   "execution_count": 25,
   "metadata": {},
   "outputs": [
    {
     "name": "stdout",
     "output_type": "stream",
     "text": [
      "The pairs with  FIBR_JELUD  are:\n",
      "('LID_S_n', 'FIBR_JELUD', 0.2151679720412839)\n"
     ]
    }
   ],
   "source": [
    "corr_finder('FIBR_JELUD')"
   ]
  },
  {
   "cell_type": "markdown",
   "metadata": {},
   "source": [
    "Use of lidocaine in ICU is related with Atrial fibrilation"
   ]
  },
  {
   "cell_type": "code",
   "execution_count": 26,
   "metadata": {},
   "outputs": [
    {
     "name": "stdout",
     "output_type": "stream",
     "text": [
      "The pairs with  RAZRIV  are:\n",
      "('RAZRIV', 'LET_IS', 0.33080044048706464)\n"
     ]
    }
   ],
   "source": [
    "corr_finder('RAZRIV')"
   ]
  },
  {
   "cell_type": "markdown",
   "metadata": {},
   "source": [
    "same as before"
   ]
  },
  {
   "cell_type": "code",
   "execution_count": 27,
   "metadata": {},
   "outputs": [
    {
     "name": "stdout",
     "output_type": "stream",
     "text": [
      "The pairs with  A_V_BLOK  are:\n",
      "('inf_im', 'A_V_BLOK', 0.21452922487323914)\n"
     ]
    }
   ],
   "source": [
    "corr_finder('A_V_BLOK')"
   ]
  },
  {
   "cell_type": "markdown",
   "metadata": {},
   "source": [
    "Presence of an inferior myocardial infarction (left ventricular) is related to third degree AV-block"
   ]
  },
  {
   "cell_type": "code",
   "execution_count": 28,
   "metadata": {},
   "outputs": [
    {
     "name": "stdout",
     "output_type": "stream",
     "text": [
      "The pairs with  PREDS_TAH  are:\n",
      "('n_r_ecg_p_08', 'PREDS_TAH', 0.23891772625852836)\n",
      "('SVT_POST', 'PREDS_TAH', 0.2379324929467789)\n"
     ]
    }
   ],
   "source": [
    "corr_finder('PREDS_TAH')"
   ]
  },
  {
   "cell_type": "markdown",
   "metadata": {},
   "source": [
    "supraventricular tachycardia is related to brachycardia at admission and Paroxysms of supraventricular tachycardia at the time of admission to intensive care unit"
   ]
  },
  {
   "cell_type": "code",
   "execution_count": 29,
   "metadata": {},
   "outputs": [
    {
     "name": "stdout",
     "output_type": "stream",
     "text": [
      "The pairs with  LET_IS  are:\n",
      "('RAZRIV', 'LET_IS', 0.33080044048706464)\n"
     ]
    }
   ],
   "source": [
    "corr_finder('LET_IS')"
   ]
  },
  {
   "cell_type": "markdown",
   "metadata": {},
   "source": [
    "same as before"
   ]
  },
  {
   "cell_type": "code",
   "execution_count": 30,
   "metadata": {},
   "outputs": [
    {
     "name": "stdout",
     "output_type": "stream",
     "text": [
      "The pairs with  OTEK_LANC  are:\n",
      "('NITR_S', 'OTEK_LANC', 0.3213941716334199)\n"
     ]
    }
   ],
   "source": [
    "corr_finder('OTEK_LANC')"
   ]
  },
  {
   "cell_type": "markdown",
   "metadata": {},
   "source": [
    "same as before"
   ]
  },
  {
   "cell_type": "code",
   "execution_count": 31,
   "metadata": {},
   "outputs": [
    {
     "name": "stdout",
     "output_type": "stream",
     "text": [
      "The pairs with  FIBR_PREDS  are:\n",
      "('n_r_ecg_p_05', 'FIBR_PREDS', 0.21869776723238601)\n"
     ]
    }
   ],
   "source": [
    "corr_finder('FIBR_PREDS')"
   ]
  },
  {
   "cell_type": "markdown",
   "metadata": {},
   "source": [
    "Atrial fibrilation is related to Paroxysms of atrial fibrillation on ECG at the time of admission to hospital\n",
    "(which kind of makes sense)"
   ]
  },
  {
   "cell_type": "code",
   "execution_count": 32,
   "metadata": {},
   "outputs": [
    {
     "name": "stdout",
     "output_type": "stream",
     "text": [
      "Optimization terminated successfully.\n",
      "         Current function value: 0.050442\n",
      "         Iterations 9\n",
      "                           Logit Regression Results                           \n",
      "==============================================================================\n",
      "Dep. Variable:              PREDS_TAH   No. Observations:                 1575\n",
      "Model:                          Logit   Df Residuals:                     1572\n",
      "Method:                           MLE   Df Model:                            2\n",
      "Date:                Fri, 03 May 2024   Pseudo R-squ.:                  0.1108\n",
      "Time:                        15:10:00   Log-Likelihood:                -79.446\n",
      "converged:                       True   LL-Null:                       -89.349\n",
      "Covariance Type:            nonrobust   LLR p-value:                 5.004e-05\n",
      "================================================================================\n",
      "                   coef    std err          z      P>|z|      [0.025      0.975]\n",
      "--------------------------------------------------------------------------------\n",
      "Intercept       -4.7869      0.279    -17.184      0.000      -5.333      -4.241\n",
      "SVT_POST         3.7443      1.143      3.276      0.001       1.504       5.984\n",
      "n_r_ecg_p_08     1.6727      1.577      1.060      0.289      -1.419       4.764\n",
      "================================================================================\n"
     ]
    }
   ],
   "source": [
    "import statsmodels.formula.api as sm\n",
    "# logistic regression fit\n",
    "reg = sm.logit(formula='PREDS_TAH ~  SVT_POST + n_r_ecg_p_08', data=data_reduced).fit()\n",
    "# use the following line to filter for institution:\n",
    "# data_manipulation2.loc[data_manipulation2['institution'] == 'Centre Léon Bérard']\n",
    "print(reg.summary())"
   ]
  },
  {
   "cell_type": "markdown",
   "metadata": {},
   "source": [
    "We can see here, that we definitely need to take into account how the features interact with each other as bradycardia loses it's significant effect as soon as we do a regression for bradycardia AND tachycardia"
   ]
  },
  {
   "cell_type": "code",
   "execution_count": 44,
   "metadata": {},
   "outputs": [
    {
     "data": {
      "text/plain": [
       "array([0.64521328, 0.18650869])"
      ]
     },
     "execution_count": 44,
     "metadata": {},
     "output_type": "execute_result"
    }
   ],
   "source": [
    "import sklearn.decomposition\n",
    "data_reduced2 = data_reduced.drop(['LET_IS'],axis = 1)\n",
    "data_reduced2.dropna(inplace = True)\n",
    "PCA = sklearn.decomposition.PCA(n_components = 2)\n",
    "PCA.fit(data_reduced2)\n",
    "PCA.explained_variance_ratio_"
   ]
  }
 ],
 "metadata": {
  "kernelspec": {
   "display_name": "Python 3 (Spyder)",
   "language": "python3",
   "name": "python3"
  },
  "language_info": {
   "codemirror_mode": {
    "name": "ipython",
    "version": 3
   },
   "file_extension": ".py",
   "mimetype": "text/x-python",
   "name": "python",
   "nbconvert_exporter": "python",
   "pygments_lexer": "ipython3",
   "version": "3.11.9"
  }
 },
 "nbformat": 4,
 "nbformat_minor": 4
}
